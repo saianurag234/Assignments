{
 "cells": [
  {
   "cell_type": "markdown",
   "id": "501a2fc1",
   "metadata": {},
   "source": [
    "# <center>Python Basics<center>"
   ]
  },
  {
   "cell_type": "markdown",
   "id": "91aa390b",
   "metadata": {},
   "source": [
    "### TOPIC: Python Basics Variable"
   ]
  },
  {
   "cell_type": "markdown",
   "id": "c3f274f5",
   "metadata": {},
   "source": [
    "<b> 1. Declare two variables, `x` and `y`, and assign them integer values.Swap the values of these variables without using any temporary variable. <b>"
   ]
  },
  {
   "cell_type": "code",
   "execution_count": 1,
   "id": "af02762b",
   "metadata": {},
   "outputs": [],
   "source": [
    "def swap_two_number(a:int,b:int):\n",
    "    a = a + b\n",
    "    b = a - b\n",
    "    a = a - b\n",
    "    \n",
    "    return a,b"
   ]
  },
  {
   "cell_type": "code",
   "execution_count": 2,
   "id": "4234ffe9",
   "metadata": {},
   "outputs": [
    {
     "name": "stdout",
     "output_type": "stream",
     "text": [
      "20 10\n"
     ]
    }
   ],
   "source": [
    "x = 10\n",
    "y = 20\n",
    "\n",
    "x,y = swap_two_number(x,y)\n",
    "\n",
    "print(x,y)"
   ]
  },
  {
   "cell_type": "markdown",
   "id": "7c14c10a",
   "metadata": {},
   "source": [
    "<b> 2. Create a program that calculates the area of a rectangle. Take the\n",
    "length and width as inputs from the user and store them in variables.\n",
    "Calculate and display the area. <b>\n"
   ]
  },
  {
   "cell_type": "code",
   "execution_count": 3,
   "id": "b43cdd4f",
   "metadata": {},
   "outputs": [],
   "source": [
    "def area_of_rectangle(length:float,width:float):\n",
    "    area = length * width\n",
    "    return area"
   ]
  },
  {
   "cell_type": "code",
   "execution_count": 5,
   "id": "c3cc3184",
   "metadata": {},
   "outputs": [
    {
     "name": "stdout",
     "output_type": "stream",
     "text": [
      "The Area of the Rectangle: 50.0\n"
     ]
    }
   ],
   "source": [
    "length = 10.0\n",
    "width = 5.0\n",
    "\n",
    "area = area_of_rectangle(length,width)\n",
    "\n",
    "print(\"The Area of the Rectangle:\",area)"
   ]
  },
  {
   "cell_type": "markdown",
   "id": "10bd0a3d",
   "metadata": {},
   "source": [
    "<b> 3. Write a Python program that converts temperature from Celsius to\n",
    "Fahrenheit. Take the temperature in Celsius as input, store it in a\n",
    "variable, convert it to Fahrenheit, and display the result <b>"
   ]
  },
  {
   "cell_type": "code",
   "execution_count": 11,
   "id": "2814961a",
   "metadata": {},
   "outputs": [],
   "source": [
    "def celsius_to_fahrenheit(temperature:float):\n",
    "    fahrenheit_temp =  (temperature*(9/5)) + 32\n",
    "    \n",
    "    return round(fahrenheit_temp,2)"
   ]
  },
  {
   "cell_type": "code",
   "execution_count": 12,
   "id": "20799a21",
   "metadata": {},
   "outputs": [
    {
     "name": "stdout",
     "output_type": "stream",
     "text": [
      "The Temperature in Farenheit is: 98.6\n"
     ]
    }
   ],
   "source": [
    "temparature = 37.0\n",
    "\n",
    "fahrenheit_temperature = celsius_to_fahrenheit(temparature)\n",
    "\n",
    "print(\"The Temperature in Farenheit is:\",fahrenheit_temperature)"
   ]
  },
  {
   "cell_type": "markdown",
   "id": "ffe97e7f",
   "metadata": {},
   "source": [
    "### TOPIC: String Based Questions"
   ]
  },
  {
   "cell_type": "markdown",
   "id": "fb3923c1",
   "metadata": {},
   "source": [
    "<b> 1. Write a Python program that takes a string as input and prints the\n",
    "length of the string.<b>"
   ]
  },
  {
   "cell_type": "code",
   "execution_count": 13,
   "id": "c5298f7a",
   "metadata": {},
   "outputs": [],
   "source": [
    "def length_of_string(string:str):\n",
    "    return len(string)"
   ]
  },
  {
   "cell_type": "code",
   "execution_count": 20,
   "id": "c7113430",
   "metadata": {},
   "outputs": [
    {
     "name": "stdout",
     "output_type": "stream",
     "text": [
      "The length of the string is: 8\n"
     ]
    }
   ],
   "source": [
    "string = \"PWskllis\"\n",
    "\n",
    "print(\"The length of the string is:\",length_of_string(string))"
   ]
  },
  {
   "cell_type": "markdown",
   "id": "78af60b5",
   "metadata": {},
   "source": [
    "<b>2. Create a program that takes a sentence from the user and counts the\n",
    "number of vowels (a, e, i, o, u) in the string.\n",
    "<b>"
   ]
  },
  {
   "cell_type": "code",
   "execution_count": 16,
   "id": "ba64ef52",
   "metadata": {},
   "outputs": [],
   "source": [
    "def no_of_vowels(sentence:str):\n",
    "    count = 0\n",
    "    vowels = ['a','e','i','o']\n",
    "    \n",
    "    for i in sentence:\n",
    "        if i in vowels:\n",
    "            count+=1\n",
    "            \n",
    "    return count"
   ]
  },
  {
   "cell_type": "code",
   "execution_count": 21,
   "id": "37db2aeb",
   "metadata": {},
   "outputs": [
    {
     "name": "stdout",
     "output_type": "stream",
     "text": [
      "The number of vowels in the sentence is: 1\n"
     ]
    }
   ],
   "source": [
    "sentence = \"PWskllis\"\n",
    "\n",
    "print(\"The number of vowels in the sentence is:\",no_of_vowels(sentence))"
   ]
  },
  {
   "cell_type": "markdown",
   "id": "73bfcc5f",
   "metadata": {},
   "source": [
    "<b>3. Given a string, reverse the order of characters using string slicing and\n",
    "print the reversed string.<b>"
   ]
  },
  {
   "cell_type": "code",
   "execution_count": 22,
   "id": "23d5f7af",
   "metadata": {},
   "outputs": [],
   "source": [
    "def reverse_string(string:str):\n",
    "    return string[::-1]"
   ]
  },
  {
   "cell_type": "code",
   "execution_count": 25,
   "id": "7a16a738",
   "metadata": {},
   "outputs": [
    {
     "name": "stdout",
     "output_type": "stream",
     "text": [
      "The reversed string is: slliksWP\n"
     ]
    }
   ],
   "source": [
    "string = \"PWskills\"\n",
    "reversed_string  = reverse_string(string)\n",
    "\n",
    "print(\"The reversed string is:\",reversed_string)"
   ]
  },
  {
   "cell_type": "markdown",
   "id": "8e8d0d6c",
   "metadata": {},
   "source": [
    "<b> 4. Write a program that takes a string as input and checks if it is a\n",
    "palindrome (reads the same forwards and backwards).<b>\n"
   ]
  },
  {
   "cell_type": "code",
   "execution_count": 39,
   "id": "821773fc",
   "metadata": {},
   "outputs": [],
   "source": [
    "def check_palindrome(string:str):\n",
    "    len_half = len(string)//2\n",
    "    \n",
    "    if(len_half%2 == 0):\n",
    "        return string[:len_half] == string[len_half:][::-1]\n",
    "    else:\n",
    "        return string[:len_half] == string[(len_half+1):][::-1]"
   ]
  },
  {
   "cell_type": "code",
   "execution_count": 41,
   "id": "7cdb6e70",
   "metadata": {},
   "outputs": [
    {
     "name": "stdout",
     "output_type": "stream",
     "text": [
      "Is ROTATOR is a palindrome:  True\n"
     ]
    }
   ],
   "source": [
    "palindrome = \"ROTATOR\"\n",
    "\n",
    "is_palindrome = check_palindrome(palindrome)\n",
    "\n",
    "print(f\"Is {palindrome} is a palindrome: \",is_palindrome)"
   ]
  },
  {
   "cell_type": "code",
   "execution_count": 42,
   "id": "68a9ef13",
   "metadata": {},
   "outputs": [
    {
     "name": "stdout",
     "output_type": "stream",
     "text": [
      "False\n"
     ]
    }
   ],
   "source": [
    "palindrome = \"PWskills\"\n",
    "\n",
    "is_palindrome = check_palindrome(palindrome)\n",
    "\n",
    "print(is_palindrome)"
   ]
  },
  {
   "cell_type": "markdown",
   "id": "c591cdc9",
   "metadata": {},
   "source": [
    "<b> 5. Create a program that takes a string as input and removes all the\n",
    "spaces from it. Print the modified string without spaces.<b>"
   ]
  },
  {
   "cell_type": "code",
   "execution_count": 43,
   "id": "a28cd03b",
   "metadata": {},
   "outputs": [],
   "source": [
    "def remove_space(string:str):\n",
    "    return string.replace(\" \",\"\")"
   ]
  },
  {
   "cell_type": "code",
   "execution_count": 44,
   "id": "4b3de57a",
   "metadata": {},
   "outputs": [
    {
     "name": "stdout",
     "output_type": "stream",
     "text": [
      "The input after removing spaces:  PWSkills\n"
     ]
    }
   ],
   "source": [
    "string_input = \" P W Sk ills\"\n",
    "\n",
    "word = remove_space(string_input)\n",
    "\n",
    "print(\"The input after removing spaces: \",word)"
   ]
  }
 ],
 "metadata": {
  "kernelspec": {
   "display_name": "Python 3 (ipykernel)",
   "language": "python",
   "name": "python3"
  },
  "language_info": {
   "codemirror_mode": {
    "name": "ipython",
    "version": 3
   },
   "file_extension": ".py",
   "mimetype": "text/x-python",
   "name": "python",
   "nbconvert_exporter": "python",
   "pygments_lexer": "ipython3",
   "version": "3.9.7"
  }
 },
 "nbformat": 4,
 "nbformat_minor": 5
}
